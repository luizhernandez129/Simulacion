{
  "nbformat": 4,
  "nbformat_minor": 0,
  "metadata": {
    "colab": {
      "provenance": [],
      "authorship_tag": "ABX9TyPrclIeotdXhcICM1oW5Qyw",
      "include_colab_link": true
    },
    "kernelspec": {
      "name": "python3",
      "display_name": "Python 3"
    },
    "language_info": {
      "name": "python"
    }
  },
  "cells": [
    {
      "cell_type": "markdown",
      "metadata": {
        "id": "view-in-github",
        "colab_type": "text"
      },
      "source": [
        "<a href=\"https://colab.research.google.com/github/luizhernandez129/Simulacion/blob/main/Practica2_Brazo_de_robot.ipynb\" target=\"_parent\"><img src=\"https://colab.research.google.com/assets/colab-badge.svg\" alt=\"Open In Colab\"/></a>"
      ]
    },
    {
      "cell_type": "code",
      "execution_count": null,
      "metadata": {
        "id": "pfZP05qJTxRZ"
      },
      "outputs": [],
      "source": [
        "import numpy as np\n",
        "import matplotlib.pyplot as plt\n",
        "\n",
        "# Parámetro de la distribución exponencial (tasa de inactividad)\n",
        "lambda_inactividad = 1 / 10  # Tiempo promedio de inactividad = 10 minutos\n",
        "\n",
        "# Función para generar un tiempo de inactividad\n",
        "def generar_tiempo_inactividad(lambda_inactividad):\n",
        "    u = np.random.uniform(0, 1)  # Generar número aleatorio uniforme\n",
        "    # Aplicar transformada inversa\n",
        "    tiempo_inactividad = -1 / lambda_inactividad * np.log(1 - u)\n",
        "    return tiempo_inactividad\n",
        "\n",
        "# Generar 100 tiempos de inactividad\n",
        "tiempos_inactividad = [generar_tiempo_inactividad(lambda_inactividad)\n",
        "                       for _ in range(100)]\n",
        "\n",
        "# Mostrar los tiempos de inactividad generados\n",
        "print(\"Tiempos de inactividad generados:\", tiempos_inactividad)\n",
        "\n",
        "# Graficar los tiempos de inactividad simulados\n",
        "plt.hist(tiempos_inactividad, bins=10, edgecolor='black', alpha=0.7)\n",
        "plt.title('Distribución de Tiempos de Inactividad Simulados (Exponencial)')\n",
        "plt.xlabel('Tiempo de inactividad (minutos)')\n",
        "plt.ylabel('Frecuencia')\n",
        "plt.show()"
      ]
    }
  ]
}