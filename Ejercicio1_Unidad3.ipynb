{
  "nbformat": 4,
  "nbformat_minor": 0,
  "metadata": {
    "colab": {
      "provenance": [],
      "authorship_tag": "ABX9TyPB4rNEHTJZHwxenWtHbmWm",
      "include_colab_link": true
    },
    "kernelspec": {
      "name": "python3",
      "display_name": "Python 3"
    },
    "language_info": {
      "name": "python"
    }
  },
  "cells": [
    {
      "cell_type": "markdown",
      "metadata": {
        "id": "view-in-github",
        "colab_type": "text"
      },
      "source": [
        "<a href=\"https://colab.research.google.com/github/luizhernandez129/Simulacion/blob/main/Ejercicio1_Unidad3.ipynb\" target=\"_parent\"><img src=\"https://colab.research.google.com/assets/colab-badge.svg\" alt=\"Open In Colab\"/></a>"
      ]
    },
    {
      "cell_type": "code",
      "execution_count": null,
      "metadata": {
        "colab": {
          "base_uri": "https://localhost:8080/"
        },
        "id": "hvoH52zEeqG7",
        "outputId": "df58dd21-eae6-42d5-cbf1-8bf34373323a"
      },
      "outputs": [
        {
          "output_type": "stream",
          "name": "stdout",
          "text": [
            "Número de pedidos satisfechos por día durante una semana: [13 14 18 15 11 16 13]\n"
          ]
        }
      ],
      "source": [
        "import numpy as np\n",
        "\n",
        "# Parámetros de la distribución binomial\n",
        "n_pedidos = 20  # Número de pedidos diarios\n",
        "prob_exito = 0.70  # Probabilidad de éxito de cumplir un pedido\n",
        "\n",
        "# Número de días a simular (una semana)\n",
        "n_dias = 7\n",
        "\n",
        "# Generar la variable aleatoria que simula el número de pedidos satisfechos por día durante una semana\n",
        "pedidos_satisfechos = np.random.binomial(n=n_pedidos, p=prob_exito, size=n_dias)\n",
        "\n",
        "# Mostrar los resultados\n",
        "print(\"Número de pedidos satisfechos por día durante una semana:\", pedidos_satisfechos)"
      ]
    }
  ]
}