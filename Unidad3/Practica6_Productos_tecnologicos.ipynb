{
  "nbformat": 4,
  "nbformat_minor": 0,
  "metadata": {
    "colab": {
      "provenance": [],
      "authorship_tag": "ABX9TyNsRKrwPWyUuP3zrSdRPLkk",
      "include_colab_link": true
    },
    "kernelspec": {
      "name": "python3",
      "display_name": "Python 3"
    },
    "language_info": {
      "name": "python"
    }
  },
  "cells": [
    {
      "cell_type": "markdown",
      "metadata": {
        "id": "view-in-github",
        "colab_type": "text"
      },
      "source": [
        "<a href=\"https://colab.research.google.com/github/luizhernandez129/Simulacion/blob/main/Practica6_Productos_tecnologicos.ipynb\" target=\"_parent\"><img src=\"https://colab.research.google.com/assets/colab-badge.svg\" alt=\"Open In Colab\"/></a>"
      ]
    },
    {
      "cell_type": "code",
      "execution_count": null,
      "metadata": {
        "id": "wtlyu-K7YBMB"
      },
      "outputs": [],
      "source": [
        "import numpy as np\n",
        "import matplotlib.pyplot as plt\n",
        "from math import comb\n",
        "\n",
        "# Parámetros de la distribución binomial\n",
        "n = 10   # Número de visitantes diarios\n",
        "p = 0.30 # Probabilidad de que un visitante realice una compra\n",
        "\n",
        "# Generar un número aleatorio uniforme U ~ Uniform(0, 1)\n",
        "num_simulaciones = 100  # Número de simulaciones (días)\n",
        "U = np.random.uniform(0, 1, num_simulaciones)\n",
        "\n",
        "# Función de distribución acumulada de la distribución binomial\n",
        "def binomial_pmf(n, k, p):\n",
        "    return comb(n, k) * (p**k) * ((1 - p)**(n - k))\n",
        "\n",
        "def binomial_inverse_transform(n, p, U):\n",
        "    F_k = 0  # Inicializamos la FDA\n",
        "    k = 0\n",
        "    while True:\n",
        "        F_k += binomial_pmf(n, k, p)  # Sumamos la probabilidad hasta que F(k) >= U\n",
        "        if U <= F_k:\n",
        "            return k  # Este valor de k es el número de clientes que hicieron una compra\n",
        "        k += 1\n",
        "\n",
        "# Generar la cantidad de clientes que realizaron una compra en cada simulación (día)\n",
        "compras_simuladas = [binomial_inverse_transform(n, p, u) for u in U]\n",
        "\n",
        "# Mostrar resultados\n",
        "print(\"Número de clientes que realizaron una compra en cada simulación (día):\")\n",
        "print(compras_simuladas)\n",
        "\n",
        "# Graficar los resultados\n",
        "plt.hist(compras_simuladas, bins=np.arange(min(compras_simuladas), max(compras_simuladas) + 1) - 0.5, edgecolor='black')\n",
        "plt.title(\"Simulación de número de compras diarias (Distribución Binomial)\")\n",
        "plt.xlabel(\"Número de compras\")\n",
        "plt.ylabel(\"Frecuencia\")\n",
        "plt.show()"
      ]
    }
  ]
}
