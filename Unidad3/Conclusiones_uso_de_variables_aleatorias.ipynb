{
  "nbformat": 4,
  "nbformat_minor": 0,
  "metadata": {
    "colab": {
      "provenance": [],
      "authorship_tag": "ABX9TyPeMZ677j+cQ+JYBewvtdy7",
      "include_colab_link": true
    },
    "kernelspec": {
      "name": "python3",
      "display_name": "Python 3"
    },
    "language_info": {
      "name": "python"
    }
  },
  "cells": [
    {
      "cell_type": "markdown",
      "metadata": {
        "id": "view-in-github",
        "colab_type": "text"
      },
      "source": [
        "<a href=\"https://colab.research.google.com/github/luizhernandez129/Simulacion/blob/main/Conclusiones_uso_de_variables_aleatorias.ipynb\" target=\"_parent\"><img src=\"https://colab.research.google.com/assets/colab-badge.svg\" alt=\"Open In Colab\"/></a>"
      ]
    },
    {
      "cell_type": "code",
      "execution_count": null,
      "metadata": {
        "id": "wZPZdWRDbvbp"
      },
      "outputs": [],
      "source": []
    },
    {
      "cell_type": "markdown",
      "source": [
        "**Conclusión**\n",
        "La utilización de variables aleatorias en la simulación de tiempos de servicio, atención, inactividad y otros contextos es fundamental para obtener resultados realistas y representativos de situaciones reales. Esto facilita la toma de decisiones informadas, optimiza recursos y mejora la calidad del servicio. A continuación se presentan 5 puntos clave sobre la importancia de esta práctica:\n",
        "\n",
        "1.  La utilizacion de distribuciones como la Poisson y la Exponencial sirve para representación realista ya que las variables aleatorias permiten modelar la incertidumbre y variabilidad inherente a los procesos reales. Por ejemplo, los tiempos de servicio y atención pueden variar significativamente entre clientes, y las llegadas de clientes pueden no seguir un patrón fijo.\n",
        "\n",
        "2. Predicción precisa al simular diferentes escenarios utilizando variables aleatorias, es posible obtener una mejor comprensión de cómo se comportarán los sistemas en diversas condiciones. Esto permite realizar predicciones más precisas y tomar decisiones informadas para mejorar la eficiencia y calidad del servicio.\n",
        "\n",
        "3. Optimización de recursos ya que la simulación con variables aleatorias ayuda a identificar cuellos de botella y áreas donde se pueden optimizar los recursos. Por ejemplo, al analizar los tiempos de inactividad y servicio, se pueden implementar estrategias para reducir tiempos muertos y mejorar la atención al cliente.\n",
        "\n",
        "4. La evaluación de estrategias permite evaluar diferentes estrategias y políticas antes de implementarlas en el mundo real. Mediante la simulación, se pueden probar diversas configuraciones y determinar cuál es la más efectiva sin incurrir en costos elevados o riesgos innecesarios.\n",
        "\n",
        "5. Hay flexibilidad en las variables aleatorias para adaptar los modelos a diferentes contextos y necesidades específicas. Esto es especialmente útil en entornos dinámicos donde las condiciones pueden cambiar rápidamente.\n",
        "\n",
        "En lo personal se me hace una herramienta muy util porque sin estos metodos no se podria hacer el calculo de la llegada  de clientes a cierto lugar, lo que puede a cierta manera calcular las estrategias de ventas de un local, o por ejemplo la reduccion de tiempos mertos puede ayudar tambien para meter mas trabajo y sea mas eficiente el plan de trabajo, o tambien para prevenir gastos innecesarios y pues se ajusta mucho a problemas de la vida cootidiana de un negocio.\n"
      ],
      "metadata": {
        "id": "qJVebFFubzZr"
      }
    },
    {
      "cell_type": "code",
      "source": [],
      "metadata": {
        "id": "BUhoDOkcetM_"
      },
      "execution_count": null,
      "outputs": []
    }
  ]
}
