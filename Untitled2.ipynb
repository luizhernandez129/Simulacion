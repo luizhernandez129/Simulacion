{
  "nbformat": 4,
  "nbformat_minor": 0,
  "metadata": {
    "colab": {
      "provenance": [],
      "authorship_tag": "ABX9TyO/EQOQWyo4drW2CFZwvmrT",
      "include_colab_link": true
    },
    "kernelspec": {
      "name": "python3",
      "display_name": "Python 3"
    },
    "language_info": {
      "name": "python"
    }
  },
  "cells": [
    {
      "cell_type": "markdown",
      "metadata": {
        "id": "view-in-github",
        "colab_type": "text"
      },
      "source": [
        "<a href=\"https://colab.research.google.com/github/luizhernandez129/Simulacion/blob/main/Untitled2.ipynb\" target=\"_parent\"><img src=\"https://colab.research.google.com/assets/colab-badge.svg\" alt=\"Open In Colab\"/></a>"
      ]
    },
    {
      "cell_type": "code",
      "execution_count": null,
      "metadata": {
        "id": "rjfPvozGpMbt"
      },
      "outputs": [],
      "source": [
        "import numpy as np\n",
        "import scipy.stats as stats\n",
        "\n",
        "# 1. Generar 100 numeros aleatorios en el rango [0,1]\n",
        "n=100\n",
        "random_numbers=np.random.uniform(0,1,n)\n",
        "# Mostrar los numeros aleatorios generados\n",
        "print(\"Numeros aleatorios generados: \")\n",
        "print(random_numbers)\n",
        "\n",
        "#2. Dividir el rango [0,1] en 10 intervalos(se puede ajustar segun necesidades)\n",
        "intervalos=10\n",
        "observed_counts,bin_edge=np.histogram(random_numbers,bin=intervalos)\n",
        "\n",
        "#3. Numeros esperados en cada intervalo si la distribucion es uniforme\n",
        "expected_count=n/intervalos //Deberian caer el mismo numero de numeros\n",
        "en cada intervalo\n",
        "\n",
        "#4. Pruebade Chi-Cuadrado\n",
        "chi2_statistic,p_value=stats.chisquare(observed_counts,\n",
        "[expected_count]*intervalos)"
      ]
    }
  ]
}